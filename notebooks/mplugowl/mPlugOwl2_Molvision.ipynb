{
  "nbformat": 4,
  "nbformat_minor": 0,
  "metadata": {
    "colab": {
      "provenance": []
    },
    "kernelspec": {
      "name": "python3",
      "display_name": "Python 3"
    },
    "language_info": {
      "name": "python"
    }
  },
  "cells": [
    {
      "cell_type": "code",
      "execution_count": null,
      "metadata": {
        "id": "dGP_Q_oV9eFP"
      },
      "outputs": [],
      "source": [
        "# Install Python 3.10 using uv\n",
        "!uv python install 3.10\n",
        "\n",
        "# Clone the repository\n",
        "!git clone https://github.com/X-PLUG/mPLUG-Owl.git\n",
        "\n",
        "# Navigate to the directory\n",
        "%cd mPLUG-Owl/mPLUG-Owl2\n",
        "\n",
        "# Install dependencies using --system flag with Python 3.10\n",
        "!uv pip install --system --python 3.10 --upgrade pip\n",
        "!uv pip install --system --python 3.10 setuptools wheel\n",
        "\n",
        "# Install PyTorch compiled for CUDA 12.1 (compatible with CUDA 12.5)\n",
        "!uv pip install --system --python 3.10 torch==2.1.2 torchvision==0.16.2 torchaudio==2.1.2 --index-url https://download.pytorch.org/whl/cu121\n",
        "\n",
        "!uv pip install --system --python 3.10 psutil\n",
        "\n",
        "# Install flash-attn (will compile against your system CUDA 12.5)\n",
        "!uv pip install --system --python 3.10 flash-attn --no-build-isolation\n",
        "\n",
        "# Install mPLUG-Owl2\n",
        "!uv pip install --system --python 3.10 -e .\n",
        "\n",
        "# Fix numpy version\n",
        "!uv pip install --system --python 3.10 \"numpy<2.0\" --force-reinstall\n",
        "!uv pip install --system --python 3.10 datasets\n",
        "# Verify installation\n",
        "!python3.10 --version\n",
        "!python3.10 -c \"import torch; print(f'PyTorch: {torch.__version__}'); print(f'CUDA available: {torch.cuda.is_available()}'); print(f'CUDA version: {torch.version.cuda}'); print(f'Device count: {torch.cuda.device_count()}')\"\n",
        "\n",
        "print(\"✅ Setup complete! mPLUG-Owl2 installed with CUDA 12.x support.\")"
      ]
    },
    {
      "cell_type": "code",
      "source": [
        "!git clone https://github.com/molvision/MolVision.git"
      ],
      "metadata": {
        "id": "TOEmiBSZ9k6T"
      },
      "execution_count": null,
      "outputs": []
    },
    {
      "cell_type": "code",
      "source": [
        "!python3.10 MolVision/mplugowl/inference.py"
      ],
      "metadata": {
        "id": "FldTsWcY9nVr"
      },
      "execution_count": null,
      "outputs": []
    },
    {
      "cell_type": "code",
      "source": [
        "!python3.10 MolVision/evaluate/classification.py --input Results/mplugowl.csv"
      ],
      "metadata": {
        "id": "tIQVfaWy9pA5"
      },
      "execution_count": null,
      "outputs": []
    }
  ]
}